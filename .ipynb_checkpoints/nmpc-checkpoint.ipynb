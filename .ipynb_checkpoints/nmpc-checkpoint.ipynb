{
 "cells": [
  {
   "cell_type": "markdown",
   "metadata": {
    "colab_type": "text",
    "id": "view-in-github"
   },
   "source": [
    "<a href=\"https://colab.research.google.com/github/giuliovv/ball_beam/blob/master/nmpc.ipynb\" target=\"_parent\"><img src=\"https://colab.research.google.com/assets/colab-badge.svg\" alt=\"Open In Colab\"/></a>"
   ]
  },
  {
   "cell_type": "code",
   "execution_count": 1,
   "metadata": {
    "colab": {
     "base_uri": "https://localhost:8080/"
    },
    "id": "lripcSW__PV6",
    "outputId": "739c2ed2-abf3-4585-cf0d-35568221601d"
   },
   "outputs": [],
   "source": [
    "colab = False\n",
    "\n",
    "if colab:\n",
    "  %pip install casadi"
   ]
  },
  {
   "cell_type": "code",
   "execution_count": 2,
   "metadata": {
    "id": "kMTuD9XX_OPr"
   },
   "outputs": [],
   "source": [
    "import numpy as np\n",
    "import matplotlib.pyplot as plt\n",
    "from casadi import *"
   ]
  },
  {
   "cell_type": "code",
   "execution_count": 3,
   "metadata": {
    "id": "_zDL7Tgf_OPv"
   },
   "outputs": [],
   "source": [
    "# Hyperparameters\n",
    "test_results = True\n",
    "N = 5 # Number of control intervals\n",
    "Q, R = 1e2, 1e-1\n",
    "\n",
    "Ts = 1 #T/N"
   ]
  },
  {
   "cell_type": "code",
   "execution_count": 4,
   "metadata": {},
   "outputs": [],
   "source": [
    "# Parameters\n",
    "r_ball = 0.0127\n",
    "L_beam = 0.4255\n",
    "g = 9.81\n",
    "x_eq = L_beam/2\n",
    "m_ball = 0.064\n",
    "m_beam = 0.65\n",
    "r_arm = 0.0254\n",
    "J_ball = 4.193e-5\n",
    "J_beam = (m_beam*L_beam**2)/3"
   ]
  },
  {
   "cell_type": "markdown",
   "metadata": {
    "id": "Vs7cAlA1_OPx"
   },
   "source": [
    "Initialize states, inputs, and system dynamic equation"
   ]
  },
  {
   "cell_type": "code",
   "execution_count": 5,
   "metadata": {
    "colab": {
     "base_uri": "https://localhost:8080/"
    },
    "id": "gdyN3xFY_OP1",
    "outputId": "b49e60c3-3fdb-43ea-fde4-3e74e98b42fd"
   },
   "outputs": [
    {
     "name": "stdout",
     "output_type": "stream",
     "text": [
      "[0.1, 0.00322826, 0.2]\n"
     ]
    }
   ],
   "source": [
    "# States\n",
    "xa = MX.sym('xa') # Augmentation for udot, not used\n",
    "x1 = MX.sym('x1') # Speed\n",
    "x2 = MX.sym('x2') # Position\n",
    "x = vertcat(xa,x1,x2) # Always vertically concatenate the states --> [n_x,1]\n",
    "# Inputs\n",
    "u1 = MX.sym('u')\n",
    "u = vertcat(u1) # Always vertically concatenate the inputs --> [n_u,1]\n",
    "# System dynamics augmented to include udot\n",
    "udot = u1\n",
    "f1 = -(2*m_ball*(L_beam-x2)*udot/(sqrt(1-(u1*r_arm/L_beam)**2)) + g*m_ball*sin(u1*r_arm/L_beam))/(m_ball+J_ball/(r_ball**2))\n",
    "f2 = x1\n",
    "ode = vertcat(udot,f1,f2) # ORDINARY DIFFERENTIAL EQUATION: Always vertically concatenate dynamic equations --> [n_x,1]\n",
    "f = Function('f_o',[x,u],[ode],['x','u'],['ode'])\n",
    "if test_results:\n",
    "    print(f([0,0.2, 0.8], 0.1))"
   ]
  },
  {
   "cell_type": "markdown",
   "metadata": {
    "id": "s22FjcEq_OP4"
   },
   "source": [
    "Define the integrator to discretize the system"
   ]
  },
  {
   "cell_type": "code",
   "execution_count": 6,
   "metadata": {
    "colab": {
     "base_uri": "https://localhost:8080/"
    },
    "id": "dcVvcpPK_OP6",
    "outputId": "eaf4a4e4-6f0a-4b0d-b1f9-a9a42c744fc5"
   },
   "outputs": [
    {
     "name": "stdout",
     "output_type": "stream",
     "text": [
      "[0, 0, 1]\n"
     ]
    }
   ],
   "source": [
    "# Integrator to discretize the ordinary differential equation --> differential algebraic equation\n",
    "intg_options = dict()\n",
    "intg_options['tf'] = Ts\n",
    "intg_options['simplify'] = True\n",
    "intg_options['number_of_finite_elements'] = 4\n",
    "# DAE problem structure\n",
    "dae = dict()\n",
    "dae['x'] = x    # Variables \n",
    "dae['p'] = u    # Parameters (N.B. for an MPC, the inputs are passed to DAE as parameters)\n",
    "dae['ode'] = f(x,u) # Expression in continuos time\n",
    "\n",
    "intg = integrator('intg','rk', dae, intg_options) # Runge-Kutta\n",
    "\n",
    "if test_results: # To numerically evaluate the DAE\n",
    "    res = intg(x0=[0,0,1],p=0)\n",
    "    print(res['xf'])\n",
    "\n",
    "# For the system dynamics, we need the symbolic DAE to update system state\n",
    "res = intg(x0=x, p=u) \n",
    "x_next = res['xf'] # Access x_next as the DAE symbolic solution\n",
    "\n",
    "# Define function F to simplify mapping between symbolic (x,u) --> (x_next)\n",
    "F = Function('F',[x,u],[x_next],['x','u'],['x_next'])"
   ]
  },
  {
   "cell_type": "code",
   "execution_count": 7,
   "metadata": {
    "colab": {
     "base_uri": "https://localhost:8080/",
     "height": 300
    },
    "id": "BCnhQfTF_OP9",
    "outputId": "93fec120-3f16-41e9-810e-04695591031b"
   },
   "outputs": [
    {
     "data": {
      "text/plain": [
       "[<matplotlib.lines.Line2D at 0x7f63bf5cbf70>,\n",
       " <matplotlib.lines.Line2D at 0x7f63bf5cbf10>,\n",
       " <matplotlib.lines.Line2D at 0x7f63bd55e070>]"
      ]
     },
     "execution_count": 7,
     "metadata": {},
     "output_type": "execute_result"
    },
    {
     "data": {
      "image/png": "[encoded data removed]",
      "text/plain": [
       "<Figure size 432x288 with 1 Axes>"
      ]
     },
     "metadata": {
      "needs_background": "light"
     },
     "output_type": "display_data"
    }
   ],
   "source": [
    "# Test the problem definition\n",
    "sim = F.mapaccum(N) # To call the F function N times\n",
    "x0 = [0,0,0]\n",
    "res = sim(x0, np.cos(np.arange(N))/4) # Example cosine excitation and its derivative\n",
    "fig = plt.figure()\n",
    "tgrid = np.linspace(0,Ts*N,N+1)\n",
    "plt.plot(tgrid, np.column_stack((x0, res)).T)"
   ]
  },
  {
   "cell_type": "code",
   "execution_count": 10,
   "metadata": {
    "colab": {
     "base_uri": "https://localhost:8080/",
     "height": 282
    },
    "id": "S1GXI4m7_OP-",
    "outputId": "bf93e103-697e-4994-fce4-19cf8988b2de"
   },
   "outputs": [
    {
     "name": "stdout",
     "output_type": "stream",
     "text": [
      "MESSAGE(sqpmethod): Convergence achieved after 4 iterations\n"
     ]
    },
    {
     "data": {
      "image/png": "[encoded data removed]",
      "text/plain": [
       "<Figure size 432x288 with 1 Axes>"
      ]
     },
     "metadata": {
      "needs_background": "light"
     },
     "output_type": "display_data"
    }
   ],
   "source": [
    "opti = Opti() # Special CasADi stack for optimization\n",
    "\n",
    "x = opti.variable(3,N+1)    # States with dimension (n_x, prediction_horizon+1) (x(0),...,x(N+1))\n",
    "u = opti.variable(1,N)      # Inputs with dimension (n_u, prediction_horizon) (u(0),...,u(N))\n",
    "p = opti.parameter(3,1)     # Parameter to set the initial state conditions (x(0))\n",
    "r = opti.parameter(1)\n",
    "\n",
    "obj = Q*sumsqr(x[-1,:] - r)+R*sumsqr(u)   # Objective function: (NOT NECESSARILY quadratic!)\n",
    "\n",
    "opti.minimize(obj)          # Setup the problem \n",
    "\n",
    "# Constraints Definition\n",
    "\n",
    "# 1) System dynamics constraint over the prediction horizon\n",
    "for k in range(0,N):\n",
    "    opti.subject_to(x[:,k+1]==F(x[:,k],u[:,k])) # System dynamics is called through F, that we defined above as the DAE that maps (x,u) --> (x,next)\n",
    "    \n",
    "# 2) Additional states/inputs constraints \n",
    "opti.subject_to(u<=pi/4)        \n",
    "opti.subject_to(u>=-pi/4)\n",
    "# 3) Force the state variable at instant 0 to be equal to the parameter value containing x0 value\n",
    "opti.subject_to(x[:,0]==p)\n",
    "\n",
    "opti.set_value(p,[0, 0, 0]) # Set the initial x0 value\n",
    "opti.set_value(r,0.2)\n",
    "\n",
    "opts = dict()\n",
    "opts[\"qpsol\"] = \"qrqp\" # qrqp or osqp\n",
    "opts[\"print_header\"] = False\n",
    "opts[\"print_iteration\"] = False\n",
    "opts[\"print_time\"] = False\n",
    "opts[\"qpsol_options\"] = dict({\"print_iter\":False,\"print_header\":False,\"print_info\":False})\n",
    "opti.solver(\"sqpmethod\", opts)\n",
    "\n",
    "# If you want to test over 1 time horizon\n",
    "if test_results:\n",
    "    sol = opti.solve() # For testing purpose: test the optimization on 1 time step\n",
    "    fig = plt.figure\n",
    "    plt.plot(tgrid, sol.value(x[1,:]).T, label='x1')\n",
    "    plt.plot(tgrid, sol.value(x[2,:]).T, label='x2')\n",
    "    plt.plot(tgrid, np.column_stack((sol.value(u).reshape(1,-1), np.NaN)).T, drawstyle='steps-post', label='u1')\n",
    "    plt.grid(True)\n",
    "    plt.legend()"
   ]
  },
  {
   "cell_type": "markdown",
   "metadata": {
    "id": "EbyyrzWO_OQC"
   },
   "source": [
    "Final Step: run the MPC control loop!\n",
    "N.B. Given that we want to simulate the system, e.g., 50 timesteps,\n",
    "1. at each time step the previosly defined optimization problem computes inputs u and predicted states x in the prediction horizon N.\n",
    "2. from computed sequence of inputs (u(0), ..., u(T)), ONLY u(0) value is selected to simulate the system\n",
    "3. (x0, u(0)) --> x_next == x(1)\n",
    "4. the loop restart"
   ]
  },
  {
   "cell_type": "code",
   "execution_count": 11,
   "metadata": {
    "id": "H-1dAYm3_OQF"
   },
   "outputs": [],
   "source": [
    "# This instruction transfom all the Opti problem defined above into a callable function\n",
    "M = opti.to_function('f',[p, r],[u[:,0]],['p', 'r'],['u_opt'])"
   ]
  },
  {
   "cell_type": "code",
   "execution_count": 12,
   "metadata": {
    "colab": {
     "base_uri": "https://localhost:8080/"
    },
    "id": "bJEcCIna_OQG",
    "outputId": "ae512194-1935-4e69-b20f-dbc7cb3f536c"
   },
   "outputs": [
    {
     "name": "stdout",
     "output_type": "stream",
     "text": [
      "MESSAGE(sqpmethod): Convergence achieved after 4 iterations\n",
      "MESSAGE(sqpmethod): Convergence achieved after 4 iterations\n",
      "MESSAGE(sqpmethod): Convergence achieved after 3 iterations\n",
      "MESSAGE(sqpmethod): Convergence achieved after 3 iterations\n",
      "MESSAGE(sqpmethod): Convergence achieved after 3 iterations\n",
      "MESSAGE(sqpmethod): Convergence achieved after 2 iterations\n",
      "MESSAGE(sqpmethod): Convergence achieved after 2 iterations\n",
      "MESSAGE(sqpmethod): Convergence achieved after 2 iterations\n",
      "MESSAGE(sqpmethod): Convergence achieved after 2 iterations\n",
      "MESSAGE(sqpmethod): Convergence achieved after 1 iterations\n",
      "MESSAGE(sqpmethod): Convergence achieved after 1 iterations\n",
      "MESSAGE(sqpmethod): Convergence achieved after 1 iterations\n",
      "MESSAGE(sqpmethod): Convergence achieved after 1 iterations\n",
      "MESSAGE(sqpmethod): Convergence achieved after 1 iterations\n",
      "MESSAGE(sqpmethod): Convergence achieved after 1 iterations\n",
      "MESSAGE(sqpmethod): Convergence achieved after 1 iterations\n",
      "MESSAGE(sqpmethod): Convergence achieved after 1 iterations\n",
      "MESSAGE(sqpmethod): Convergence achieved after 1 iterations\n",
      "MESSAGE(sqpmethod): Convergence achieved after 1 iterations\n",
      "MESSAGE(sqpmethod): Convergence achieved after 1 iterations\n"
     ]
    }
   ],
   "source": [
    "# Reference point\n",
    "r = 0.2\n",
    "\n",
    "# MPC loop\n",
    "X_log = np.empty((3,0))\n",
    "U_log = np.array([])\n",
    "\n",
    "x = [0,0,0]\n",
    "for i in range(4*N):\n",
    "    u = M(x, r)\n",
    "\n",
    "    U_log = np.append(U_log, u)\n",
    "    X_log = np.column_stack((X_log, x))\n",
    "\n",
    "    # simulate\n",
    "    x = F(x,u) #+ [0, np.random.rand()*0.02]"
   ]
  },
  {
   "cell_type": "code",
   "execution_count": 13,
   "metadata": {
    "colab": {
     "base_uri": "https://localhost:8080/",
     "height": 568
    },
    "id": "2KYpTRq8_OQH",
    "outputId": "47c1c8eb-b9eb-4c8a-f6e1-2f239532ef88"
   },
   "outputs": [
    {
     "data": {
      "text/plain": [
       "<matplotlib.legend.Legend at 0x7f63bcf9f610>"
      ]
     },
     "execution_count": 13,
     "metadata": {},
     "output_type": "execute_result"
    },
    {
     "data": {
      "image/png": "[encoded data removed]",
      "text/plain": [
       "<Figure size 1152x648 with 1 Axes>"
      ]
     },
     "metadata": {
      "needs_background": "light"
     },
     "output_type": "display_data"
    }
   ],
   "source": [
    "# Plot results!\n",
    "fig = plt.figure(figsize=(16,9))\n",
    "tgrid_mpc = np.linspace(0,4*Ts*N,4*N+1)\n",
    "plt.plot(tgrid_mpc, np.append(x0[0], X_log[0,:]).T, label ='xa')\n",
    "plt.plot(tgrid_mpc, np.append(x0[1], X_log[1,:]).T, label ='x1')\n",
    "plt.plot(tgrid_mpc, np.append(x0[2], X_log[2,:]).T, label ='x2')\n",
    "plt.plot(tgrid_mpc, np.append(U_log, np.NaN).T, linestyle='-.', drawstyle='steps-post', label=\"u1\")\n",
    "plt.xlabel('t [s]')\n",
    "plt.grid(True)\n",
    "plt.legend()"
   ]
  },
  {
   "cell_type": "markdown",
   "metadata": {
    "id": "4pCOOwtI_OQI"
   },
   "source": [
    "If you want to save the MPC controller, i.e. the M function for later use, you can do it!"
   ]
  },
  {
   "cell_type": "code",
   "execution_count": 14,
   "metadata": {
    "id": "GFkFUAse_OQI"
   },
   "outputs": [],
   "source": [
    "M.save('M.casadi')\n",
    "f = M"
   ]
  },
  {
   "cell_type": "code",
   "execution_count": 15,
   "metadata": {
    "id": "ldmscDxL_OQJ"
   },
   "outputs": [],
   "source": [
    "# Use this to build an S-Function\n",
    "\n",
    "opts = dict(mex=True)\n",
    "cg_options = dict()\n",
    "cg_options[\"casadi_real\"] = 'real_T'\n",
    "cg_options[\"casadi_int\"] = 'int_T'\n",
    "cg_options[\"with_header\"] = True\n",
    "#cg_options[\"mex\"] = True\n",
    "cg = CodeGenerator('f',cg_options)\n",
    "cg.add_include('simstruc.h');\n",
    "cg.add(f);\n",
    "cg.generate();"
   ]
  },
  {
   "cell_type": "code",
   "execution_count": 16,
   "metadata": {},
   "outputs": [],
   "source": [
    "# Use this to build a simple MEX\n",
    "\n",
    "#opts = dict(mex=True, with_header=True, casadi_real='real_T', casadi_int=\"int_T\")\n",
    "#f.generate('f.c',opts)"
   ]
  },
  {
   "cell_type": "code",
   "execution_count": 17,
   "metadata": {},
   "outputs": [
    {
     "name": "stdout",
     "output_type": "stream",
     "text": [
      "MESSAGE(sqpmethod): Convergence achieved after 3 iterations\n"
     ]
    },
    {
     "data": {
      "text/plain": [
       "DM(-0.491798)"
      ]
     },
     "execution_count": 17,
     "metadata": {},
     "output_type": "execute_result"
    }
   ],
   "source": [
    "M([0, 0, 0], 0.1)"
   ]
  }
 ],
 "metadata": {
  "colab": {
   "include_colab_link": true,
   "name": "nmpc.ipynb",
   "provenance": []
  },
  "interpreter": {
   "hash": "9c0b2e427cbb92844ba111dcff82d8b9613a09f4bc427dee816f26f3945d58ab"
  },
  "kernelspec": {
   "display_name": "RACE",
   "language": "python",
   "name": "race"
  },
  "language_info": {
   "codemirror_mode": {
    "name": "ipython",
    "version": 3
   },
   "file_extension": ".py",
   "mimetype": "text/x-python",
   "name": "python",
   "nbconvert_exporter": "python",
   "pygments_lexer": "ipython3",
   "version": "3.8.10"
  }
 },
 "nbformat": 4,
 "nbformat_minor": 1
}
